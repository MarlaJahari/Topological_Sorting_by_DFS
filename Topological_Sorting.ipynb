{
  "nbformat": 4,
  "nbformat_minor": 0,
  "metadata": {
    "colab": {
      "provenance": []
    },
    "kernelspec": {
      "name": "python3",
      "display_name": "Python 3"
    },
    "language_info": {
      "name": "python"
    }
  },
  "cells": [
    {
      "cell_type": "markdown",
      "source": [
        "**ASSIGNMENT II- TOPOLOGICAL SORTING BY DFS**\n",
        "\n",
        "\n",
        "\n",
        "1.   *CODE IN PYTHON*\n",
        "2.   *BUILD A TOY EXAMPLE*\n",
        "3.   *IMPLEMENTATION*\n",
        "\n"
      ],
      "metadata": {
        "id": "EaNJaahz9JL_"
      }
    },
    {
      "cell_type": "markdown",
      "source": [
        "1. *Function definition*"
      ],
      "metadata": {
        "id": "UcKmJ6CT-Nbc"
      }
    },
    {
      "cell_type": "code",
      "source": [
        "\n",
        "\n",
        "#defining a function that implements topological sorting by dfs\n",
        "def top_sort(graph):\n",
        "    #initializing an empty stack to store the topological order\n",
        "    stack = []\n",
        "\n",
        "    #initializing a set to keep track of visited vertices\n",
        "    visited = set()\n",
        "\n",
        "    #defining a depth-first search (DFS) function\n",
        "    def dfs(vertex):\n",
        "\n",
        "        #marking the current vertex as visited\n",
        "        visited.add(vertex)\n",
        "\n",
        "        #exploring all neighbors of the current vertex\n",
        "        for neighbor in graph.get(vertex, []):\n",
        "\n",
        "            #if the neighbor has not been visited, recursively call DFS\n",
        "            if neighbor not in visited:\n",
        "                dfs(neighbor)\n",
        "        #after exploring all neighbors, push the current vertex onto the stack\n",
        "        stack.append(vertex)\n",
        "\n",
        "    #iterating over all vertices in the graph\n",
        "    for vertex in graph:\n",
        "        #if the vertex has not been visited, starting DFS from it\n",
        "        if vertex not in visited:\n",
        "            dfs(vertex)\n",
        "\n",
        "    #return the stack containing the topological order\n",
        "    return stack\n"
      ],
      "metadata": {
        "id": "z-8ro66X9kmL"
      },
      "execution_count": 2,
      "outputs": []
    },
    {
      "cell_type": "markdown",
      "source": [
        "2. *Building Toy Example*"
      ],
      "metadata": {
        "id": "RzSgj7kD9wDF"
      }
    },
    {
      "cell_type": "code",
      "source": [
        "#toy example graph\n",
        "graph = {\n",
        "    'A': ['C'],\n",
        "    'B': ['C', 'D'],\n",
        "    'C': ['E'],\n",
        "    'D': ['F'],\n",
        "    'E': ['F'],\n",
        "    'F': []\n",
        "}"
      ],
      "metadata": {
        "id": "MPtRT-nU92Bn"
      },
      "execution_count": 3,
      "outputs": []
    },
    {
      "cell_type": "markdown",
      "source": [
        "3. *Implementation*\n"
      ],
      "metadata": {
        "id": "XZf7Xki395Hh"
      }
    },
    {
      "cell_type": "code",
      "source": [
        "#performing topological sorting\n",
        "top_order = topological_sort(graph)\n",
        "print(\"Topological Order:\", top_order)\n"
      ],
      "metadata": {
        "colab": {
          "base_uri": "https://localhost:8080/",
          "height": 0
        },
        "id": "DBeqnzUH989x",
        "outputId": "5e1c81c9-7b7f-4754-a175-c49828267cde"
      },
      "execution_count": 4,
      "outputs": [
        {
          "output_type": "stream",
          "name": "stdout",
          "text": [
            "Topological Order: ['F', 'E', 'C', 'A', 'D', 'B']\n"
          ]
        }
      ]
    }
  ]
}